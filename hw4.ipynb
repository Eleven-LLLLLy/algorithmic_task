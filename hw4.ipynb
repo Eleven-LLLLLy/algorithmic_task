{
 "cells": [
  {
   "cell_type": "markdown",
   "metadata": {},
   "source": [
    "## algorithm design and anlysis-2025 spring  homework 4\n",
    "**Deadline**：2025.5.14\n",
    "\n",
    "**name**:\n",
    "\n",
    "\n",
    "note：\n",
    "---\n",
    "1. 带有\\*的题目，申请免上课的同学，必须完成，其他同学选作；\n",
    "2. 请独立完成，如求助了他人或者大模型，请著明，并且不可省略算法分析部分；\n",
    "4. 如若作答有雷同，全部取消成绩；\n",
    "3. 需要书面作答的题目，可以通过引用图片的形式添加，但是注意上传项目时包含所引用的图片的源文件；\n",
    "4. $log_n$ 默认表示$log_2{n}$;"
   ]
  },
  {
   "cell_type": "markdown",
   "metadata": {},
   "source": [
    "## 问题 1 \n",
    "**最小生成树（Minimum Spanning Tree）**\n",
    "\n",
    "设  **G**  为一个带权重的连通无向图，且所有边的权重均不相等。令$e_i$ 为权重第 $i$ 小的边。最小生成树（MST）是否必须包含 $e_1$ ? 同理，是否必须包含 $e_2$ 和 $e_3$ ? 若必须包含，请给出证明；否则，请构造反例。需从基本原理论证，不能依赖割引理(cut lemma) 或 Prim/Kruskal算法的正确性。\n"
   ]
  },
  {
   "cell_type": "markdown",
   "metadata": {},
   "source": [
    "answer:本题借鉴大模型以及网络资料\n",
    "<div align=\"center\"> <img alt=\"图片\" src=\"./fig/hw4_problem1_page_1.png\"> </div>\n",
    "<div align=\"center\"> <img alt=\"图片\" src=\"./fig/hw4_problem1_page_2 .png\"> </div>\n"
   ]
  },
  {
   "cell_type": "markdown",
   "metadata": {},
   "source": [
    "## 问题 2 \n",
    "**瓶颈生成树（Bottleneck Spanning Tree）**\n",
    "\n",
    "带有权重的无向图 $G(V,E,w)$ 的瓶颈生成树，表现为：在所有生成树中，最大权重边的权重值最小。即，BST $T$ 最小化瓶颈损失 $c(T)=max_{e \\in T}{w(e)}$。\n",
    "\n",
    "1. 证明 $G$ 的每一个最小生成树（MST）都是瓶颈生成树（BST）\n",
    "2. 设计一个线性时间复杂度的算法：， 对于一个图 $G(V,E,w)$ 和一个整数 $b$，判断图 $ G$ 是否存在一个瓶颈生成树，其最大权重边的权重不超过 $b$，分析算法设计思路，并基于python编程实现。\n",
    "3. 设计一个线性时间复杂度的算法：对于给定的图 $G(V,E,w)$，找到其瓶颈生成树，分析算法设计思路，并基于python编程实现。"
   ]
  },
  {
   "metadata": {},
   "cell_type": "markdown",
   "source": [
    "idea-1:本题借鉴大模型以及网络资料\n",
    "<div align=\"center\"> <img alt=\"图片\" src=\"./fig/hw4_problem2_page_1.png\"> </div>"
   ]
  },
  {
   "cell_type": "markdown",
   "metadata": {},
   "source": "idea-2:要找到图G中存在一个瓶颈生成树且他的最大权重边不超过b。其实就是我们是否可以通过图G中所存在的边来构成一个所有权重都小于b的子图。因为若子图是连通的就一定会存在一颗生成树，再由我们第一问所证明的问题，则就会存在一个符合瓶颈条件的树。"
  },
  {
   "metadata": {},
   "cell_type": "code",
   "outputs": [],
   "execution_count": null,
   "source": [
    "# add your code here\n",
    "# algorithm of the liear time complexity: O(n)\n",
    "def has_bst_le_b(num_vertices, edges, b):\n",
    "    if num_vertices <= 1:\n",
    "        return True\n",
    "    adj = {}\n",
    "    for u, v, weight in edges:\n",
    "        if weight <= b:\n",
    "            adj.setdefault(u, []).append(v)\n",
    "            adj.setdefault(v, []).append(u)\n",
    "    if not adj:\n",
    "        return False\n",
    "    visited = set()\n",
    "    start_node = next(iter(adj))\n",
    "    q = collections.deque([start_node])\n",
    "    visited.add(start_node)\n",
    "    while q:\n",
    "        u = q.popleft()\n",
    "        for v in adj.get(u, []):\n",
    "            if v not in visited:\n",
    "                visited.add(v)\n",
    "                q.append(v)\n",
    "    return len(visited) == num_vertices\n",
    "if __name__ == \"__main__\":\n",
    "    V_test = 5\n",
    "    E_test = [(0, 1, 1), (0, 3, 4), (1, 2, 2), (0, 2, 3), (2, 4, 5)]\n",
    "    print(f\"测试图: V={V_test}, E={E_test}\\n\")\n",
    "    test_bottlenecks = [2,5]\n",
    "    for b_val in test_bottlenecks:\n",
    "        result = has_bst_le_b(V_test, E_test, b_val)\n",
    "        print(result)"
   ]
  },
  {
   "metadata": {},
   "cell_type": "markdown",
   "source": "idea-3：还是对应第一题的思想，要想找到瓶颈生成树可以转化为找对应的生成树，我们通过kruskal算法进行实现。kruskal算法就是不断的找寻权重最小的边并进行判断是否会与当前所选取的边会不会形成环路，最终即能构成一个对应的最小生成树。"
  },
  {
   "metadata": {
    "ExecuteTime": {
     "end_time": "2025-07-01T06:32:21.498405Z",
     "start_time": "2025-07-01T06:32:21.483568Z"
    }
   },
   "cell_type": "code",
   "source": [
    "def find_set(v, parent):\n",
    "    if v == parent[v]:\n",
    "        return v\n",
    "    parent[v] = find_set(parent[v], parent)\n",
    "    return parent[v]\n",
    "def union_sets(u, v, parent, size):\n",
    "    root_u = find_set(u, parent)\n",
    "    root_v = find_set(v, parent)\n",
    "    if root_u != root_v:\n",
    "        if size[root_u] < size[root_v]:\n",
    "            root_u, root_v = root_v, root_u\n",
    "        parent[root_v] = root_u\n",
    "        size[root_u] += size[root_v]\n",
    "        return True\n",
    "    return False\n",
    "def kruskal(num_vertices, edges):\n",
    "    parent = list(range(num_vertices))\n",
    "    size = [1] * num_vertices\n",
    "    edges.sort(key=lambda item: item[2])\n",
    "    mst_edges = []\n",
    "    total_weight = 0\n",
    "    for u, v, weight in edges:\n",
    "        if union_sets(u, v, parent, size):\n",
    "            mst_edges.append((u, v, weight))\n",
    "            total_weight += weight\n",
    "\n",
    "            if len(mst_edges) == num_vertices - 1:\n",
    "                break\n",
    "    if len(mst_edges) < num_vertices - 1:\n",
    "        print(\"该图不连通，无法生成一棵完整的生成树。\")\n",
    "    return mst_edges, total_weight\n",
    "V_test = 5\n",
    "E_test = [(0, 1, 1), (0, 3, 4), (1, 2, 2), (0, 2, 3), (2, 4, 5)]\n",
    "print(f\"测试图: V={V_test}, E={E_test}\\n\")\n",
    "mst, weight = kruskal(V_test, E_test)\n",
    "print(\"Kruskal算法找到的最小生成树:\")\n",
    "for u, v, w in mst:\n",
    "    print(f\"  边: ({u}, {v}), 权重: {w}\")\n",
    "\n",
    "print(f\"最小生成树的总权重: {weight}\")"
   ],
   "outputs": [
    {
     "name": "stdout",
     "output_type": "stream",
     "text": [
      "测试图: V=5, E=[(0, 1, 1), (0, 3, 4), (1, 2, 2), (0, 2, 3), (2, 4, 5)]\n",
      "\n",
      "Kruskal算法找到的最小生成树:\n",
      "  边: (0, 1), 权重: 1\n",
      "  边: (1, 2), 权重: 2\n",
      "  边: (0, 3), 权重: 4\n",
      "  边: (2, 4), 权重: 5\n",
      "最小生成树的总权重: 12\n"
     ]
    }
   ],
   "execution_count": 1
  },
  {
   "cell_type": "markdown",
   "metadata": {},
   "source": [
    "## 问题 3\n",
    "\n",
    "**道路网（Road Network）**\n",
    "\n",
    "假设有一个以图 $ G(V, E, l) $ 表示的道路网络，连接了一组城市 $ V $。我们假设该网络是有向的，并且每条道路 $(u, v) \\in E$ 都有一个非负的长度 $ l(u, v) $。一条新的道路即将被建造，因此有一个列表 $ E' $ 包含它可以连接的城市对。每对 $(u, v) \\in E'$ 都有一个对应的长度 $ l'(u, v) $。我们希望选择一对城市，使得两个城市 $ s, t \\in V $ 之间的距离减少最大。请为此问题编写一个高效的算法，并详细解释算法的正确性和复杂度。\n",
    "\n"
   ]
  },
  {
   "metadata": {},
   "cell_type": "markdown",
   "source": "idea：本题借鉴大模型，Dijkstra算法是著名的计算最短路径的算法，我们首先使用该算法计算整个图所对应的最短路径信息。之后我们对所可能连接的城市对进行检查，计算对应的缩减量，以此找到最大的缩减量。"
  },
  {
   "metadata": {
    "ExecuteTime": {
     "end_time": "2025-07-01T03:06:08.488804Z",
     "start_time": "2025-07-01T03:06:08.473782Z"
    }
   },
   "cell_type": "code",
   "source": [
    "import heapq\n",
    "import collections\n",
    "def dijkstra(graph, start_node, num_cities):\n",
    "    distances = [float('inf')] * num_cities\n",
    "    distances[start_node] = 0\n",
    "    priority_queue = [(0, start_node)]\n",
    "    while priority_queue:\n",
    "        current_dist, current_node = heapq.heappop(priority_queue)\n",
    "        if current_dist > distances[current_node]:\n",
    "            continue\n",
    "        if current_node in graph:\n",
    "            for neighbor, weight in graph[current_node]:\n",
    "                distance = current_dist + weight\n",
    "                if distance < distances[neighbor]:\n",
    "                    distances[neighbor] = distance\n",
    "                    heapq.heappush(priority_queue, (distance, neighbor))\n",
    "    return distances\n",
    "def find_best_new_road(num_cities, existing_roads, new_roads_candidates):\n",
    "    graph = collections.defaultdict(list)\n",
    "    for u, v, length in existing_roads:\n",
    "        graph[u].append((v, length))\n",
    "    dist_matrix = [[float('inf')] * num_cities for _ in range(num_cities)]\n",
    "    for i in range(num_cities):\n",
    "        dist_matrix[i] = dijkstra(graph, i, num_cities)\n",
    "    max_reduction = 0\n",
    "    best_road = None\n",
    "    for u, v, l_uv in new_roads_candidates:\n",
    "        for s in range(num_cities):\n",
    "            for t in range(num_cities):\n",
    "                d_st = dist_matrix[s][t]\n",
    "                d_su = dist_matrix[s][u]\n",
    "                d_vt = dist_matrix[v][t]\n",
    "                if d_su == float('inf') or d_vt == float('inf'):\n",
    "                    continue\n",
    "                new_path_len = d_su + l_uv + d_vt\n",
    "                if new_path_len < d_st:\n",
    "                    reduction = d_st - new_path_len\n",
    "\n",
    "                    if reduction > max_reduction:\n",
    "                        max_reduction = reduction\n",
    "                        best_road = (u, v, l_uv)\n",
    "    return best_road, max_reduction\n",
    "num_cities = 4\n",
    "existing_roads = [\n",
    "    (0, 1, 10),\n",
    "    (1, 2, 10),\n",
    "    (0, 2, 25),\n",
    "    (2, 3, 10)\n",
    "]\n",
    "new_roads_candidates = [\n",
    "    (0, 3, 5),\n",
    "    (1, 3, 12)\n",
    "]\n",
    "best_choice, reduction_amount = find_best_new_road(num_cities, existing_roads, new_roads_candidates)\n",
    "if best_choice:\n",
    "    print(f\"\\n最佳选择是建造道路: {best_choice}\")\n",
    "    print(f\"这条路能带来的最大距离减少量为: {reduction_amount:.2f}\")\n",
    "else:\n",
    "    print(\"\\n没有一条新路能带来任何距离上的改善。\")"
   ],
   "outputs": [
    {
     "name": "stdout",
     "output_type": "stream",
     "text": [
      "\n",
      "最佳选择是建造道路: (0, 3, 5)\n",
      "这条路能带来的最大距离减少量为: 25.00\n"
     ]
    }
   ],
   "execution_count": 7
  },
  {
   "cell_type": "markdown",
   "metadata": {},
   "source": [
    "## 问题 4\n",
    "\n",
    "**逃离问题**\n",
    "\n",
    "一个 $ n \\times n $ 的网格是一个无向图，由 $ n $ 行和 $ n $ 列的顶点组成，如下图所示。我们用 $(i,j)$ 表示第 $ i $ 行和第 $ j $ 列的顶点。除了边界顶点，网格中的所有顶点都有四个邻居，即满足 $ i = 1, i = n, j = 1 $ 或 $ j = n $ 的点 $(i,j)$。\n",
    "\n",
    "给定网格中的 $ m \\leq n^2 $ 个起点 $(x_1, y_1), (x_2, y_2), \\cdots , (x_m, y_m)$，逃离问题是确定是否存在 $ m $ 条顶点不相交的路径（即路径之间不相交），从这些起点到边界上的任意 $ m $ 个不同点。例如，图1中的网格存在逃离。\n",
    "\n",
    "(1) 该问题可以看作是一个最大流问题。考虑一个流网络，其中顶点和边都有容量。也就是说，进入任何给定顶点的总正流量受到容量限制。证明在具有边和顶点容量的网络中确定最大流可以简化为在具有可比大小的普通流网络上的最大流问题。更准确地说，你需要将一个具有顶点和边容量的网络 $ G = (V,E) $ 转换为另一个仅具有边容量的网络 $ G' = (V', E') $，使得两个网络上的最大流相同，并且你构建的新网络具有 $ V' = O(V) $ 个顶点和 $ E' = O(E) $ 条边。你可以假设网络是连通的。\n",
    "\n",
    "(2) 描述一个解决逃离问题的高效算法，并分析其运行时间。\n",
    "\n",
    "\n",
    "<div align=\"center\"> <img alt=\"图片\" src=\"./fig/escepe-p.png\"> </div>\n",
    "<center> 图2. 逃脱问题网格，起始顶点为黑色，其他网格顶点为白色</center>"
   ]
  },
  {
   "cell_type": "markdown",
   "metadata": {},
   "source": "idea：我的初步思想就是利用回溯以及深度优先搜索进行解决。我们要为图中m个点进行分析逃离路径且不得相交，解决方法有点类似迷宫问题，我们依次对第一个点进行随时规划逃离路径，之后对第二个点在剩下的路径点中进行安排，以此类推。若遇到无法规划的节点，则进行回溯重新进行规划。"
  },
  {
   "metadata": {
    "ExecuteTime": {
     "end_time": "2025-07-01T05:55:56.202389Z",
     "start_time": "2025-07-01T05:55:56.188192Z"
    }
   },
   "cell_type": "code",
   "source": [
    "def solve_beginner(n, starts):\n",
    "    m = len(starts)\n",
    "\n",
    "    def find_paths_recursively(k, visited_nodes):\n",
    "        if k == m:\n",
    "            return True\n",
    "        start_node = starts[k]\n",
    "        stack = [(start_node, [start_node])]\n",
    "        a_set = {start_node}\n",
    "        while stack:\n",
    "            curr, path = stack.pop()\n",
    "            r, c = curr\n",
    "            is_boundary = (r == 0 or r == n - 1 or c == 0 or c == n - 1)\n",
    "            if is_boundary:\n",
    "                new_visited = visited_nodes.copy()\n",
    "                for node in path:\n",
    "                    new_visited.add(node)\n",
    "                if find_paths_recursively(k + 1, new_visited):\n",
    "                    return True\n",
    "                continue\n",
    "            for dr, dc in [(0, 1), (0, -1), (1, 0), (-1, 0)]:\n",
    "                next_r, next_c = r + dr, c + dc\n",
    "                next_node = (next_r, next_c)\n",
    "                if 0 <= next_r < n and 0 <= next_c < n and next_node not in visited_nodes and next_node not in a_set:\n",
    "                    a_set.add(next_node)\n",
    "                    stack.append((next_node, path + [next_node]))\n",
    "        return False\n",
    "    return find_paths_recursively(0, set(starts))\n",
    "\n",
    "n = 6\n",
    "starts = [\n",
    "    (1, 1), (1, 3), (1, 5),\n",
    "    (2, 0), (2, 1), (2, 3), (2, 5),\n",
    "    (3, 1), (3, 3), (3, 5)\n",
    "]\n",
    "result = solve_beginner(n, starts)\n",
    "print(f\"能逃出去吗? {'能' if result else '不能'}\")"
   ],
   "outputs": [
    {
     "name": "stdout",
     "output_type": "stream",
     "text": [
      "对于 6x6 网格和起点 [(1, 1), (1, 3), (1, 5), (2, 0), (2, 1), (2, 3), (2, 5), (3, 1), (3, 3), (3, 5)]:\n",
      "能逃出去吗? 能\n"
     ]
    }
   ],
   "execution_count": 10
  }
 ],
 "metadata": {
  "language_info": {
   "name": "python"
  },
  "kernelspec": {
   "name": "python3",
   "language": "python",
   "display_name": "Python 3 (ipykernel)"
  }
 },
 "nbformat": 4,
 "nbformat_minor": 2
}
