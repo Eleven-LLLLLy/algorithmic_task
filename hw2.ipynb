{
 "cells": [
  {
   "cell_type": "markdown",
   "metadata": {},
   "source": [
    "## algorithm design and anlysis-2025 spring  homework 2\n",
    "**Deadline**：2025.5.14\n",
    "\n",
    "**name**:\n",
    "\n",
    "\n",
    "note：\n",
    "---\n",
    "1. 带有\\*的题目，申请免上课的同学，必须完成，其他同学选作；\n",
    "2. 请独立完成，如求助了他人或者大模型，请著明，并且不可省略算法分析部分；\n",
    "4. 如若作答有雷同，全部取消成绩；\n",
    "3. 需要书面作答的题目，可以通过引用图片的形式添加，但是注意上传项目时包含所引用的图片的源文件；\n",
    "4. $log_n$ 默认表示$log_2{n}$;"
   ]
  },
  {
   "cell_type": "markdown",
   "metadata": {},
   "source": [
    "## 问题 1  \n",
    "\n",
    "> 给定一个已排序的链表的头 `head` ， *删除所有重复的元素，使每个元素只出现一次* 。返回 *已排序的链表* 。链表的类如下所示：\n",
    "\n",
    "```python\n",
    "class NodeList:\n",
    "    def __init__(self, val=None, right=None):\n",
    "        self.val   = val\n",
    "        self.right = right\n",
    "```\n",
    "\n",
    "输入是一个数组，你首先需要将数组转化为链表，然后删除链表中的重复元素，再遍历链表元素，以一个数组的形式返回。请设计一个算法解决上述任务，分析算法设计思路，计算时间复杂度, 并基于python编程实现。\n",
    "\n",
    "e.g.  输入：head=[1, 1, 2, 3, 3]   输出：[1, 2, 3]\n",
    "\n",
    "![image-20240502110020439](./fig/hw2q1.png)\n",
    "\n"
   ]
  },
  {
   "cell_type": "markdown",
   "metadata": {},
   "source": [
    "idea：\n",
    "\n",
    "    针对已给定数组进行创建链表，直接定义一个头节点并逆序遍历数组进行头插法创建链表。而对于重复元素的删除，只需依次访问链表的每一节点与下一节点，判断他们的值是否相同即可，只需注意right指针的指定。"
   ]
  },
  {
   "cell_type": "code",
   "metadata": {
    "ExecuteTime": {
     "end_time": "2025-03-29T10:15:08.206600Z",
     "start_time": "2025-03-29T10:15:08.187080Z"
    }
   },
   "source": [
    "# add your idea here\n",
    "# your algorithm time complexity is:O(n)\n",
    "class NodeList:\n",
    "    def __init__(self, val=None, right=None):\n",
    "        self.val   = val\n",
    "        self.right = right\n",
    "def output_list(p):\n",
    "    while p:\n",
    "        print(p.val)\n",
    "        p=p.right\n",
    "def create_link(head_node,array):\n",
    "    for i in range(len(array)-1,-1,-1):\n",
    "        temp_node = NodeList(array[i])\n",
    "        temp_node.right=head_node.right\n",
    "        head_node.right = temp_node\n",
    "    p=head_node.right\n",
    "    output_list(p)\n",
    "def del_repeat(p):\n",
    "    while p.right:\n",
    "        temp=p.right\n",
    "        if p.val==temp.val:\n",
    "            p.right=temp.right\n",
    "        else:\n",
    "            p=p.right\n",
    "\n",
    "array=[1,1,2,3,3]\n",
    "head_node = NodeList()\n",
    "create_link(head_node,array)\n",
    "del_repeat(head_node.right)\n",
    "output_list(head_node.right)"
   ],
   "outputs": [
    {
     "name": "stdout",
     "output_type": "stream",
     "text": [
      "1\n",
      "1\n",
      "2\n",
      "3\n",
      "3\n",
      "1\n",
      "2\n",
      "3\n"
     ]
    }
   ],
   "execution_count": 15
  },
  {
   "cell_type": "markdown",
   "metadata": {},
   "source": [
    "## 问题 2  \n",
    "\n",
    "> 下面是一个经典的算法问题：\n",
    ">\n",
    "> - 给定包含n个整数的一个整数数组 `nums` 和一个整数目标值 `target`，请你在该数组中找出 **和为目标值** *`target`* 的那 **两个** 整数，并返回它们的**数组下标**。假设每种输入只会对应一个答案。但是，数组中同一个元素在答案里不能重复出现。你可以按任意顺序返回答案。\n",
    ">\n",
    "> 由于要多次查找数组中元素的位置，为了提高查询效率可以使用哈希表来存储数组中的数据，在哈希表中查询一个元素的复杂度为O(1)。 已知python中的字典是使用哈希表实现的，即使用`dict[key]`查询对应的value时间复杂度为O(1), python提供了查询字典是否包含某个key的功能：`key in dict`，时间复杂度也是O(1)\n",
    "\n",
    "请根据上面信息，设计一个时间复杂度为O(n) 的算法，解决上述算法问题\n",
    "\n",
    "e.g.   \n",
    "\n",
    "输入：nums=[2,7,11,15], target=9， 输出：[0，1]\n",
    "\n",
    "输入：nums=[3,2,4], target=6, 输出：[1,2]\n",
    "\n",
    "输入：nums=[3,3], target=6,  输出：[0,1]\n"
   ]
  },
  {
   "cell_type": "code",
   "metadata": {
    "ExecuteTime": {
     "end_time": "2025-03-29T10:11:20.460085Z",
     "start_time": "2025-03-29T10:11:20.450325Z"
    }
   },
   "source": [
    "# add your idea here\n",
    "# your algorithm time complexity is: O(n)\n",
    "nums=[3,2,4]\n",
    "target=6\n",
    "def sum_dict(nums,target):\n",
    "    dict={value:index for index,value in enumerate(nums)}\n",
    "    for i in range(len(nums)):\n",
    "        if dict.get(target-nums[i]):\n",
    "            return [i,dict[target-nums[i]]]\n",
    "print(sum_dict(nums,target))"
   ],
   "outputs": [
    {
     "name": "stdout",
     "output_type": "stream",
     "text": [
      "[1, 2]\n"
     ]
    }
   ],
   "execution_count": 14
  },
  {
   "cell_type": "markdown",
   "metadata": {},
   "source": [
    "## 问题 3:   \n",
    "\n",
    "> 栈是一种常用的数据结构，编译器中通常使用栈来实现表达式求值。\n",
    ">\n",
    "> 以表达式 $3+5 \\times 8-6$​ 为例。编译器使用两个栈来完成运算，即一个栈保持操作数，另一个栈保存运算符。\n",
    ">\n",
    "> 1. 从左向右遍历表达式，遇到数字就压入操作数栈；\n",
    ">\n",
    "> 2. 遇到运算符，就与运算符栈的栈顶元素进行比较。如果比运算符栈顶元素的优先级高，就将当前运算符压入栈；如果比运算符栈顶元素的优先级低或者相同，从运算符栈中取栈顶运算符，从操作数栈的栈顶取 2 个操作数，然后进行计算，再把计算完的结果压入操作数栈，继续比较。\n",
    ">\n",
    "> 下图是 $3+5 \\times 8-6$  这个表达式的计算过程：\n",
    "\n",
    "![figure](./fig/hw2q3.png)\n",
    "\n",
    "根据上述原理，请设计一个算法完成表达式的运算，当输入为表达式字符串，返回对应的计算结果。分析算法设计思路，计算时间复杂度，并基于python编程实现\n",
    "\n",
    "**note：**\n",
    "\n",
    "1. 假设输入的表达式只会出现加（“+”），减 “-”， 乘“*”，除 “/” 四个运算符, 表达式中只会出现正整数\n",
    "2. python中` str.isdigit()`函数可以判断字符串str是否为数字，\n",
    "\n",
    "\n",
    "\n",
    "e.g. :\n",
    "---\n",
    "\n",
    "1. 输入：“$3+5 * 8 -6$”   输出：37\n",
    "\n",
    "2. 输入：“$34+13*9 + 44-12/3$”  输出：191"
   ]
  },
  {
   "cell_type": "markdown",
   "metadata": {},
   "source": [
    "idea：\n",
    "\n",
    "    首先正对字符串的进行数字与字符的拆分，不可以直接用索引读取，以免数字读取错误。随后遍历数组依次将数字以及运算符存入两个不同的栈。若为若为运算符直接压入栈，若为数字，判断此时运算符栈的栈顶元素是否为乘除，若为则取出数字栈的栈顶元素与当前元素进行运算，其他情况则直接压入栈。最后处理完剩下的加减运算即可。"
   ]
  },
  {
   "cell_type": "code",
   "metadata": {
    "ExecuteTime": {
     "end_time": "2025-03-29T13:18:09.014931Z",
     "start_time": "2025-03-29T13:18:08.991992Z"
    }
   },
   "source": [
    "import re\n",
    "\n",
    "\n",
    "# add your idea here\n",
    "# your algorithm time complexity is:O(n)\n",
    "def calculation(str):\n",
    "    stack_num=[]\n",
    "    stack_operation=[]\n",
    "    n=len(str)\n",
    "    i=0\n",
    "    while i<n:\n",
    "        if str[i].isdigit():\n",
    "            num=int(str[i])\n",
    "            stack_num.append(num)\n",
    "            if len(stack_operation)!=0 and stack_operation[-1]=='*':\n",
    "                temp_a=stack_num.pop()\n",
    "                temp_b=stack_num.pop()\n",
    "                stack_operation.pop()\n",
    "                stack_num.append(temp_a*temp_b)\n",
    "            elif len(stack_operation)!=0 and stack_operation[-1]=='/':\n",
    "                temp_a=stack_num.pop()\n",
    "                temp_b=stack_num.pop()\n",
    "                stack_operation.pop()\n",
    "                stack_num.append(temp_b/temp_a)\n",
    "        elif str[i]=='+'or str[i]=='-'or str[i]=='*'or str[i]=='/':\n",
    "            stack_operation.append(str[i])\n",
    "        print(str[i])\n",
    "        i=i+1\n",
    "\n",
    "    while len(stack_operation)!=0:\n",
    "        print(len(stack_operation))\n",
    "        if stack_operation[-1]=='+':\n",
    "                temp_a=stack_num.pop()\n",
    "                print(temp_a)\n",
    "                temp_b=stack_num.pop()\n",
    "                print(temp_b)\n",
    "                stack_operation.pop()\n",
    "                stack_num.append(temp_a+temp_b)\n",
    "        elif stack_operation[-1]=='-':\n",
    "                temp_a=stack_num.pop()\n",
    "                print(temp_a)\n",
    "                temp_b=stack_num.pop()\n",
    "                print(temp_b)\n",
    "                stack_operation.pop()\n",
    "                stack_num.append(temp_b-temp_a)\n",
    "    print(stack_num.pop(0))\n",
    "calculation(re.findall(r'(\\d+|[+\\-*/])', \"34+13*9+44-12/3\"))"
   ],
   "outputs": [
    {
     "name": "stdout",
     "output_type": "stream",
     "text": [
      "34\n",
      "+\n",
      "13\n",
      "*\n",
      "9\n",
      "+\n",
      "44\n",
      "-\n",
      "12\n",
      "/\n",
      "3\n",
      "3\n",
      "4.0\n",
      "44\n",
      "2\n",
      "40.0\n",
      "117\n",
      "1\n",
      "157.0\n",
      "34\n",
      "191.0\n"
     ]
    }
   ],
   "execution_count": 36
  },
  {
   "cell_type": "markdown",
   "metadata": {},
   "source": [
    "## 问题 4:  \n",
    "\n",
    "> 星球碰撞问题：现有n个星球，在同一条直线上运行，如数组A所示，元素的绝对值表示星球的质量，负数表示星球自右向左运动，正数表示星球自左向右运动，当两个星球相撞的时候，质量小的会消失，大的保持不变，**质量相同的两个星球碰撞后自右向左运动的星球消失，自左向右的星球保持不变**，假设所有星球的速度大小相同。\n",
    ">\n",
    "> $ A=[23,-8, 9, -3, -7, 9, -23, 22] $\n",
    "\n",
    "请设计一个算法模拟星球的运行情况，输出最终的星球存续情况（输出一个数组），分析算法设计思路，计算时间复杂度，并基于python编程实现。\n",
    "\n",
    "e.g.\n",
    "---\n",
    "1.  输入： A=[-3,-6,2,8, 5,-8,9,-2,1]， 输出：[-3, -6, 2, 8, 9, 1]\n",
    "\n",
    "2. 输入：A=[23,-8, 9, -3, -7, 9, -23, 22], 输出：[23, 22]\n",
    "\n"
   ]
  },
  {
   "metadata": {},
   "cell_type": "markdown",
   "source": [
    "idea:\n",
    "\n",
    "    这道题目一开始还是有误导性，并不是所有负数星球从最右端出发，正数星球从最左端出发，这样的思路导致我一开始做出来是错误的。根据题目所说星球位置其实就是等同于他的索引位置，那么只有正数星球在前负数星球再后才会发生碰撞，其他情况都是在彼此远离或者同向运动。\n"
   ]
  },
  {
   "metadata": {
    "ExecuteTime": {
     "end_time": "2025-03-30T07:52:53.467947Z",
     "start_time": "2025-03-30T07:52:53.456978Z"
    }
   },
   "cell_type": "code",
   "source": [
    "# add your idea here\n",
    "# your algorithm time complexity is:O(n)\n",
    "def collisions(array):\n",
    "    stack=[]\n",
    "\n",
    "    for i in array:\n",
    "        flag = False\n",
    "        if len(stack)==0:\n",
    "            stack.append(i)\n",
    "            continue\n",
    "        while len(stack)!=0 and stack[-1]>0 and i<0:\n",
    "            if abs(stack[-1])>abs(i):\n",
    "                flag = True\n",
    "                break\n",
    "            elif abs(stack[-1])<abs(i):\n",
    "                stack.pop()\n",
    "                flag=True\n",
    "            else:\n",
    "                stack[-1]=abs(i)\n",
    "                break\n",
    "        if not flag:\n",
    "            stack.append(i)\n",
    "    return stack\n",
    "print(collisions([-3,-6,2,8, 5,-8,9,-2,1]))\n",
    "print(collisions([23,-8, 9, -3, -7, 9, -23, 22]))"
   ],
   "outputs": [
    {
     "name": "stdout",
     "output_type": "stream",
     "text": [
      "[-3, -6, 2, 8, 9, 1]\n",
      "[23, 22]\n"
     ]
    }
   ],
   "execution_count": 9
  },
  {
   "cell_type": "markdown",
   "metadata": {},
   "source": [
    "## 问题 5 \n",
    "\n",
    "> 给定一个无序数组nums=[9,-3,-10,0,9,7,33]，请建立一个二叉搜索树存储数组中的所有元素，之后删除二叉树中的元素“0”，再使用中序遍历输出二叉搜索树中的所有元素。\n",
    "\n",
    "使用python编程完成上述任务，并计算时间复杂度\n"
   ]
  },
  {
   "cell_type": "code",
   "metadata": {
    "ExecuteTime": {
     "end_time": "2025-03-30T11:57:35.085758Z",
     "start_time": "2025-03-30T11:57:35.071954Z"
    }
   },
   "source": [
    "# add your idea here\n",
    "# your algorithm time complexity is:O(nlogn)\n",
    "class TreeNode:\n",
    "    def __init__(self, data=None):\n",
    "        self.data = data\n",
    "        self.left = None\n",
    "        self.right = None\n",
    "nums=[9,-3,-10,0,9,7,33]\n",
    "def delete_node(node,num):\n",
    "    if node==None:\n",
    "        return None\n",
    "    if num<node.data:\n",
    "        node.left=delete_node(node.left,num)\n",
    "    elif num>node.data:\n",
    "        node.right=delete_node(node.right,num)\n",
    "    else:\n",
    "        if node.left is None:\n",
    "            return node.right\n",
    "        elif node.right is None:\n",
    "            return node.left\n",
    "        temp=node.right\n",
    "        while temp.left:\n",
    "            temp=temp.left\n",
    "        node.data=temp.data\n",
    "        node.right=delete_node(node.right,temp.data)\n",
    "    return node\n",
    "def middle_traversal(node):\n",
    "    if node:\n",
    "        middle_traversal(node.left)\n",
    "        print(node.data)\n",
    "        middle_traversal(node.right)\n",
    "def insert_node(node,num):\n",
    "    if num<node.data:\n",
    "        if node.left==None:\n",
    "            node.left = TreeNode(num)\n",
    "        else:\n",
    "            insert_node(node.left,num)\n",
    "    else:\n",
    "        if node.right==None:\n",
    "            node.right = TreeNode(num)\n",
    "        else:\n",
    "            insert_node(node.right,num)\n",
    "head_node=TreeNode(nums[0])\n",
    "for i in range(1,len(nums)):\n",
    "    insert_node(head_node,nums[i])\n",
    "middle_traversal(head_node)\n",
    "print('\\n')\n",
    "delete_node(head_node,0)\n",
    "middle_traversal(head_node)"
   ],
   "outputs": [
    {
     "name": "stdout",
     "output_type": "stream",
     "text": [
      "-10\n",
      "-3\n",
      "0\n",
      "7\n",
      "9\n",
      "9\n",
      "33\n",
      "\n",
      "\n",
      "-10\n",
      "-3\n",
      "7\n",
      "9\n",
      "9\n",
      "33\n"
     ]
    }
   ],
   "execution_count": 15
  },
  {
   "cell_type": "markdown",
   "metadata": {},
   "source": [
    "## 问题 6\n",
    "\n",
    "> 给定一个包含大写字母和小写字母的字符串 s ，返回 字符串包含的 **最长的回文子串的长度** 。请注意 区分大小写 。比如 \"Aa\" 不能当做一个回文字符串。\n",
    ">\n",
    "\n",
    "请设计一个算法解决上述问题，只需要输出最长回文子串的长度，分析算法设计思路，计算时间复杂度，并基于python编程实现\n",
    "\n",
    "e.g. 输入： s=\"adccaccd\"，  输出：7。 最长回文子串为：\"dccaccd\", 长度为7\n"
   ]
  },
  {
   "cell_type": "markdown",
   "metadata": {},
   "source": [
    "idea："
   ]
  },
  {
   "cell_type": "code",
   "metadata": {
    "ExecuteTime": {
     "end_time": "2025-03-30T12:40:56.870580Z",
     "start_time": "2025-03-30T12:40:56.858470Z"
    }
   },
   "source": [
    "# add your idea here\n",
    "# your algorithm time complexity is:O(n2)\n",
    "s='adccaccd'\n",
    "def judge_palindrome(s):\n",
    "    palindrome=''\n",
    "    n=len(s)\n",
    "    max_len=0\n",
    "    for i in range(n):\n",
    "        left=right=i\n",
    "        while left>=0 and right<n and s[left]==s[right]:\n",
    "            if right-left+1>max_len:\n",
    "                max_len=right-left+1\n",
    "                palindrome=s[left:right+1]\n",
    "            left-=1\n",
    "            right+=1\n",
    "\n",
    "    for i in range(n):\n",
    "        left=i\n",
    "        right=i+1\n",
    "        while left>=0 and right<n and s[left]==s[right]:\n",
    "            if right-left+1>max_len:\n",
    "                max_len=right-left+1\n",
    "                palindrome=s[left:right+1]\n",
    "            left-=1\n",
    "            right+=1\n",
    "    return palindrome,max_len\n",
    "print(judge_palindrome(s))\n"
   ],
   "outputs": [
    {
     "name": "stdout",
     "output_type": "stream",
     "text": [
      "('dccaccd', 7)\n"
     ]
    }
   ],
   "execution_count": 20
  },
  {
   "cell_type": "markdown",
   "metadata": {},
   "source": [
    "## 问题 7 \n",
    "\n",
    "> 沿一条长河流分散着n座房子。你可以把这条河想象成一条轴，房子是由它们在这条轴上的坐标按顺序排列的。你的公司想在河边的特定地点设置手机基站，这样每户人家都在距离基站4公里的范围内。输入可以看作为一个升序数组，数组元素的取值为大于等于0的正整数，你需要输出最小基站的数目，基站的位置。\n",
    "\n",
    "1. 给出一个时间复杂度为$O(n$) 的算法，使所使用的基站数量最小化，分析算法设计思路，使用python编程实现\n",
    "2. 证明1.中算法产生了最优解决方案。\n",
    "\n",
    "e.g. \n",
    "\n",
    "输入： [1, 5, 12, 33, 34,35]  输出：基站数目为3， 基站位置为[1，12，33]\n",
    "\n"
   ]
  },
  {
   "cell_type": "markdown",
   "metadata": {},
   "source": [
    "idea：\n",
    "\n",
    "    本题的要求即是四公里范围内的住户都要被基站覆盖，且要求基站数越少越好。那么换句话说就是要求每个基站覆盖的住户要越多越好。此外本题还有一个问题就是基站的覆盖范围是4公里还是距离基站四公里就能被覆盖，根据举例，我的解法就是假设基站的覆盖范围就是只有四公里。那么本题目采用贪心算法依次遍历住户判断其是否在当前基站单方向的四公里内，若不在当前基站则就需要建立下一个基站继续遍历。"
   ]
  },
  {
   "cell_type": "code",
   "metadata": {
    "ExecuteTime": {
     "end_time": "2025-03-31T02:50:42.899685Z",
     "start_time": "2025-03-31T02:50:42.881734Z"
    }
   },
   "source": [
    "# add your idea here\n",
    "# your algorithm time complexity is:O(n)\n",
    "position=[1,5,12,33,34,35]\n",
    "def station_construction(arr):\n",
    "    station=[]\n",
    "    for i in range(len(arr)):\n",
    "        if len(station)==0:\n",
    "            station.append(arr[i])\n",
    "            continue\n",
    "        if arr[i]-station[-1]<=4:\n",
    "            continue\n",
    "        else:\n",
    "            station.append(arr[i])\n",
    "    return station\n",
    "station=station_construction(position)\n",
    "print(station,len(station))"
   ],
   "outputs": [
    {
     "name": "stdout",
     "output_type": "stream",
     "text": [
      "[1, 12, 33] 3\n"
     ]
    }
   ],
   "execution_count": 1
  },
  {
   "cell_type": "markdown",
   "metadata": {},
   "source": [
    "## 问题 8  \n",
    "\n",
    "> 给定由n个正整数组成的一个集合$S = \\{a_1, a_2，···，a_n\\}$和一个正整数W，设计一个算法确定是否存在S的一个子集 $K \\subseteq S$, 使K中所有数之和为 $W$, 如果存在返回“True”，否则返回“False”\n",
    "\n",
    "请设计一个时间复杂度为$O(nW)$动态规划算法，解决上述问题，分析算法的设计思路，并且基于python编程实现（不需要输出子集）。\n",
    "\n",
    "e.g. \n",
    "\n",
    "输入：S = {1,4,7,3,5}， W = 11，输出：True。   因为K可以是{4,7}。\n",
    "\n"
   ]
  },
  {
   "cell_type": "markdown",
   "metadata": {},
   "source": [
    "idea：\n",
    "\n",
    "    使用动态规划解决这个问题，首先考虑的就是如何创建状态方程。dp[i][j]矩阵的构建就是代表前i个数字的子集是否可以构造出j。那么状态方程就是分两种情况，第一种即是选择S[i]，这种情况就是前i个数可以组成j-s[i]的子集。而不选择s[i]就是当前已有对应子集产生。"
   ]
  },
  {
   "cell_type": "code",
   "metadata": {
    "ExecuteTime": {
     "end_time": "2025-04-03T16:59:55.152190Z",
     "start_time": "2025-04-03T16:59:55.144718Z"
    }
   },
   "source": [
    "# add your idea here\n",
    "# your algorithm time complexity is: O(nW)\n",
    "def subset_total(s,w):\n",
    "    dp=[[False]*(w+1) for _ in range(len(s)+1)]\n",
    "    for i in range(len(s)+1):\n",
    "        dp[i][0]=True\n",
    "    for i in range(1,len(s)+1):\n",
    "        for j in range(1,w+1):\n",
    "            if j >=dp[i][j-1]:\n",
    "                dp[i][j] = dp[i-1][j] or dp[i-1][j-s[i-1]]\n",
    "            else:\n",
    "                dp[i][j] = dp[i-1][j]\n",
    "    return dp[len(s)][w]\n",
    "S=[1,4,7,3,5]\n",
    "w=11\n",
    "print(subset_total(S,w))"
   ],
   "outputs": [
    {
     "name": "stdout",
     "output_type": "stream",
     "text": [
      "True\n"
     ]
    }
   ],
   "execution_count": 8
  },
  {
   "cell_type": "markdown",
   "metadata": {},
   "source": [
    "\n",
    "\n",
    "## 问题 9 \n",
    "\n",
    "> 给定一个n个物品的集合。物体的重量为$w_1, w_2，…、w_n$，物品的价值分别是$v_1、v_2、…v_n$。给你**两个**重量为 $c$ 的背包。如果你带了一个东西，它可以放在一个背包里，也可以放在另一个背包里，但不能同时放在两个背包里。所有权重和价值都是正整数。\n",
    "\n",
    "1. 设计一个时间复杂度为 $O(nc^2)$ 的动态规划算法，确定可以放入两个背包的物体的最大价值。分析算法设计思路，并基于python编程实现\n",
    "2. \\* 修改1中的算法，输出每个背包的内容（物品对应下标）。\n",
    "\n",
    "e.g.: \n",
    "\n",
    "输入 V=[1,3,2,5,8,7], W=[1,3,2,5,8,7], c=7, 输出：最大价值=14，背包装的物品为：[6] [4，3] （同一个背包中物品装入顺序对结果无影响）  \n"
   ]
  },
  {
   "cell_type": "markdown",
   "metadata": {},
   "source": [
    "idea：\n",
    "\n",
    "    比较常见的题目为单背包问题，那么此题首先我的思路从单背包问题出发。单背包问题的状态方程就是当前物品的重要是否大于当前背包的剩余重量，若是则进行判断放入以及不放入的最大值，具体方程如下：$ dp[i][j]=max(dp[i-1][j],dp[i-1][j-w[i]]+v[i])$。以此为基础，再此思考双背包问题就比较的容易，由于题目要求时间复杂度允许为$O(nc^2)$，那么在之前的基础上加上两种背包重量的嵌套循环来遍历每一种情况同时取到最大值即可。\n",
    "\n",
    "idea2:\n",
    "\n",
    "    而为了输出每个背包的内容，最可以直接从最末尾开始回溯，模拟物品入背包的过程。"
   ]
  },
  {
   "cell_type": "code",
   "metadata": {
    "ExecuteTime": {
     "end_time": "2025-04-05T15:50:53.652761Z",
     "start_time": "2025-04-05T15:50:53.640002Z"
    }
   },
   "source": [
    "# add your idea here\n",
    "# your algorithm time complexity is: O(nc^2)\n",
    "def package_problem(W, V, C):\n",
    "    n = len(W)\n",
    "    dp = [[[0 for _ in range(C + 1)] for _ in range(C + 1)] for _ in range(n + 1)]\n",
    "\n",
    "    for i in range(1, n + 1):\n",
    "        w, v = W[i - 1], V[i - 1]\n",
    "        for j in range(C + 1):\n",
    "            for k in range(C + 1):\n",
    "                dp[i][j][k] = dp[i - 1][j][k]\n",
    "                if j >= w:\n",
    "                    dp[i][j][k] = max(dp[i][j][k], dp[i - 1][j - w][k] + v)\n",
    "                if k >= w:\n",
    "                    dp[i][j][k] = max(dp[i][j][k], dp[i - 1][j][k - w] + v)\n",
    "\n",
    "    bag1, bag2 = [], []\n",
    "    i, j, k = n, C, C\n",
    "    while i > 0:\n",
    "        w, v = W[i - 1], V[i - 1]\n",
    "        if j >= w and dp[i][j][k] == dp[i - 1][j - w][k] + v:\n",
    "            bag1.append(i - 1)\n",
    "            j -= w\n",
    "        elif k >= w and dp[i][j][k] == dp[i - 1][j][k - w] + v:\n",
    "            bag2.append(i - 1)\n",
    "            k -= w\n",
    "        i -= 1\n",
    "    return dp[n][C][C], bag1, bag2\n",
    "V = [1, 3, 2, 5, 8, 7]\n",
    "W = [1, 3, 2, 5, 8, 7]\n",
    "C = 7\n",
    "max_val, bag1_items, bag2_items = package_problem(W, V, C)\n",
    "print(\"最大价值为：\", max_val)\n",
    "print(\"背包1装的物品索引：\", bag1_items)\n",
    "print(\"背包2装的物品索引：\", bag2_items)"
   ],
   "outputs": [
    {
     "name": "stdout",
     "output_type": "stream",
     "text": [
      "最大价值为： 14\n",
      "背包1装的物品索引： [5]\n",
      "背包2装的物品索引： [3, 2]\n"
     ]
    }
   ],
   "execution_count": 9
  },
  {
   "cell_type": "markdown",
   "metadata": {},
   "source": [
    "## 问题 10 \n",
    "\n",
    "> 给定两个字符串 $x[1..n]$ 和 $y[1..m]$，我们想通过以下操作将 $x$ 变换为 $y$ :\n",
    ">\n",
    "> **插入**：在 $x$ 中插入一个字符(在任何位置)；**删除**：从 $x$ 中删除一个字符(在任何位置)； **替换**：用另一个字符替换 $x$ 中的一个字符。\n",
    ">\n",
    "> 例如: $x = abcd$, $y = bcfe$，\n",
    ">\n",
    "> - 将 $x$ 转换为 $y$ 的一种可能方法是：1. 删除 $x$ 开头的 $a$, $x$变成 $bcd$； 2. 将 $x$ 中的字符 $d$ 替换为字符 $f$。$x$ 变成 $bcf$； 3. 在 $x$ 的末尾插入字符 $e$。$x$ 变成 $bcfe$。\n",
    ">\n",
    "> - 另一种可能的方法：1. 删除 $x$ 开头的 $a$,  $x$ 变成 $bcd$； 2. 在 $x$ 中字符 $d$ 之前插入字符 $f$。$x$ 变成 $bcfd$。3. 将 $x$ 中的字符 $d$ 替换为字符 $e$。$x$ 变成 $bcfe$。\n",
    "\n",
    "设计一个时间复杂度为 $O(mn)$ 的算法，返回将 $x$ 转换为 $y$ 所需的最少操作次数。分析算法设计思路，并基于python编程实现。\n"
   ]
  },
  {
   "cell_type": "markdown",
   "metadata": {},
   "source": [
    "idea：\n",
    "\n",
    "\n",
    "    该思路参考chatgpt。总体想法是从小字符串入手，先考虑如何最快将前一位字符串转化为前一位字符串，随后则是考虑如何将前两位字符串转化为对应的前两位字符串，以此来完成动态规划的状态方程划分。"
   ]
  },
  {
   "cell_type": "code",
   "metadata": {
    "ExecuteTime": {
     "end_time": "2025-04-14T11:07:14.851065Z",
     "start_time": "2025-04-14T11:07:14.843848Z"
    }
   },
   "source": [
    "# add your idea here\n",
    "# your algorithm time complexity is: O(mn)\n",
    "def edit_distance(x, y):\n",
    "    n, m = len(x), len(y)\n",
    "    dp = [[0] * (m + 1) for _ in range(n + 1)]\n",
    "    for i in range(n + 1):\n",
    "        dp[i][0] = i\n",
    "    for j in range(m + 1):\n",
    "        dp[0][j] = j\n",
    "    for i in range(1, n + 1):\n",
    "        for j in range(1, m + 1):\n",
    "            if x[i - 1] == y[j - 1]:\n",
    "                dp[i][j] = dp[i - 1][j - 1]\n",
    "            else:\n",
    "                dp[i][j] = min(\n",
    "                    dp[i - 1][j] + 1,\n",
    "                    dp[i][j - 1] + 1,\n",
    "                    dp[i - 1][j - 1] + 1\n",
    "                )\n",
    "    print(dp[n][m])\n",
    "x='abcd'\n",
    "y='bcfe'\n",
    "edit_distance(x,y)"
   ],
   "outputs": [
    {
     "name": "stdout",
     "output_type": "stream",
     "text": [
      "3\n"
     ]
    }
   ],
   "execution_count": 11
  }
 ],
 "metadata": {
  "language_info": {
   "name": "python"
  },
  "kernelspec": {
   "name": "python3",
   "language": "python",
   "display_name": "Python 3 (ipykernel)"
  }
 },
 "nbformat": 4,
 "nbformat_minor": 2
}
