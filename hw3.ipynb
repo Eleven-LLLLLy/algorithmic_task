{
 "cells": [
  {
   "cell_type": "markdown",
   "metadata": {},
   "source": [
    "## algorithm design and anlysis-2025 spring  homework 3\n",
    "**Deadline**：2025.5.14\n",
    "\n",
    "**name**:\n",
    "\n",
    "\n",
    "note：\n",
    "---\n",
    "1. 带有\\*的题目，申请免上课的同学，必须完成，其他同学选作；\n",
    "2. 请独立完成，如求助了他人或者大模型，请著明，并且不可省略算法分析部分；\n",
    "4. 如若作答有雷同，全部取消成绩；\n",
    "3. 需要书面作答的题目，可以通过引用图片的形式添加，但是注意上传项目时包含所引用的图片的源文件；\n",
    "4. $log_n$ 默认表示$log_2{n}$;"
   ]
  },
  {
   "cell_type": "markdown",
   "metadata": {},
   "source": [
    "## 问题 1  \n",
    "\n",
    "请证明基于比较的排序算法计算复杂度下界为$\\Omega(nlogn)$"
   ]
  },
  {
   "cell_type": "markdown",
   "metadata": {},
   "source": [
    "you can refer a handwritten picture, pleas upload the picture in /fig/xxx.png\n",
    "answer："
   ]
  },
  {
   "cell_type": "markdown",
   "metadata": {},
   "source": [
    "## 问题 2 \n",
    "\n",
    "构建二叉搜索树\n",
    "\n",
    "> 1. 给定一个数组 [48, 33, 49, 47, 42, 46, 32], 构建一个二叉搜索树存储这些数据，请**绘制**所构建的**二叉搜索树**（标明结点的值）。\n",
    "> 2. 从第1问的二叉搜索树中删除33，请**绘制**删除33后的**二叉搜索树**（标明结点的值）\n",
    "\n",
    "- 推荐使用graphviz包绘制树的结构"
   ]
  },
  {
   "cell_type": "markdown",
   "metadata": {},
   "source": [
    "you can refer a handwritten picture, pleas upload the picture in /fig/xxx.png\n",
    "answer："
   ]
  },
  {
   "metadata": {},
   "cell_type": "markdown",
   "source": [
    "answer:(graphviz包使用方法来自于大语言模型)\n",
    "\n",
    "![二叉搜索树图1](fig/before_delete.png)\n",
    "\n",
    "![二叉搜索树图2](fig/after_delete.png)"
   ]
  },
  {
   "metadata": {},
   "cell_type": "code",
   "source": [
    "\n",
    "import graphviz\n",
    "from transformers.optimization_tf import schedules\n",
    "\n",
    "\n",
    "class TreeNode:\n",
    "    def __init__(self, data=None):\n",
    "        self.data = data\n",
    "        self.left = None\n",
    "        self.right = None\n",
    "def visualize_tree(root):\n",
    "    dot = graphviz.Digraph()\n",
    "    def add_nodes_edges(node):\n",
    "        if not node:\n",
    "            return\n",
    "        dot.node(str(id(node)), str(node.data))\n",
    "        if node.left:\n",
    "            dot.edge(str(id(node)), str(id(node.left)))\n",
    "            add_nodes_edges(node.left)\n",
    "        if node.right:\n",
    "            dot.edge(str(id(node)), str(id(node.right)))\n",
    "            add_nodes_edges(node.right)\n",
    "    add_nodes_edges(root)\n",
    "    return dot\n",
    "def delete_node(node,num):\n",
    "    if node==None:\n",
    "        return None\n",
    "    if num<node.data:\n",
    "        node.left=delete_node(node.left,num)\n",
    "    elif num>node.data:\n",
    "        node.right=delete_node(node.right,num)\n",
    "    else:\n",
    "        if node.left is None:\n",
    "            return node.right\n",
    "        elif node.right is None:\n",
    "            return node.left\n",
    "        temp=node.right\n",
    "        while temp.left:\n",
    "            temp=temp.left\n",
    "        node.data=temp.data\n",
    "        node.right=delete_node(node.right,temp.data)\n",
    "    return node\n",
    "def middle_traversal(node):\n",
    "    if node:\n",
    "        middle_traversal(node.left)\n",
    "        print(node.data)\n",
    "        middle_traversal(node.right)\n",
    "def insert_node(node,num):\n",
    "    if num<node.data:\n",
    "        if node.left==None:\n",
    "            node.left = TreeNode(num)\n",
    "        else:\n",
    "            insert_node(node.left,num)\n",
    "    else:\n",
    "        if node.right==None:\n",
    "            node.right = TreeNode(num)\n",
    "        else:\n",
    "            insert_node(node.right,num)\n",
    "nums=[48, 33, 49, 47, 42, 46, 32]\n",
    "head_node=TreeNode(nums[0])\n",
    "for i in range(1,len(nums)):\n",
    "    insert_node(head_node,nums[i])\n",
    "tree=visualize_tree(head_node)\n",
    "tree.render(\"fig/before_delete\",format=\"png\",cleanup=False)\n",
    "delete_node(head_node,33)\n",
    "tree=visualize_tree(head_node)\n",
    "tree.render(\"fig/after_delete\",format=\"png\",cleanup=False)"
   ],
   "outputs": [],
   "execution_count": null
  },
  {
   "cell_type": "markdown",
   "metadata": {},
   "source": [
    "## 问题 3 \n",
    "\n",
    "> 下面是九门课程的开始和结束时间:\n",
    ">\n",
    "> [(9:00,12:30), (11:00,14:00), (13:00, 14:30), (9:00,10:30),(13:00, 14:30),(14:00,16:30), (15:00,16:30), (15:00,16:30), (9:00,10:30)]\n",
    ">\n",
    "> 请使用贪婪算法为这九门课分配教室，要求在同一天内安排这些课，并且每个教室同一时间只能安排一门课。\n",
    "\n",
    "**请问最少需要几间教室，罗列出每个教室安排的课程**"
   ]
  },
  {
   "cell_type": "markdown",
   "metadata": {},
   "source": [
    "idea：\n",
    "\n",
    "    针对多个课程进行贪心算法安排，则就是一个教室尽可能的放下多个课程。那么每次加入课程时，就遍历当前存在的教室，若当前教室的结束时间早于当前课程的开始时间则就将此课程放入该教室即可，直到遍历结束。需要注意的是为了比较的方便，需将时间转化为分钟制，并且根据开始时间排序，这样顺序遍历不会造成教室课程数组中的混乱。"
   ]
  },
  {
   "cell_type": "code",
   "metadata": {
    "vscode": {
     "languageId": "plaintext"
    }
   },
   "source": [
    "def hour_to_minutes(time_str):\n",
    "    h, m = map(int, time_str.split(\":\"))\n",
    "    return h * 60 + m\n",
    "def assign_classroom(arr):\n",
    "    schedules=[]\n",
    "    for i in range(len(arr)):\n",
    "        schedules.append((hour_to_minutes(arr[i][0]), hour_to_minutes(arr[i][1]),i))\n",
    "    schedules.sort(key=lambda x:x[0])\n",
    "    print(schedules)\n",
    "    rooms=[]\n",
    "    arrangement=[]\n",
    "    for start,end,i in schedules:\n",
    "        assigned=False\n",
    "        for j in range(len(rooms)):\n",
    "            if rooms[j][0]<=start:\n",
    "                rooms[j]=(end,rooms[j][1])\n",
    "                arrangement[rooms[j][1]].append(i)\n",
    "                assigned=True\n",
    "                break\n",
    "        if not assigned:\n",
    "            rooms.append((end,len(rooms)))\n",
    "            arrangement.append([i])\n",
    "    rooms.sort()\n",
    "    return arrangement, len(arrangement)\n",
    "courses = [\n",
    "    (\"9:00\",\"12:30\"), (\"11:00\",\"14:00\"), (\"13:00\",\"14:30\"),\n",
    "    (\"9:00\",\"10:30\"), (\"13:00\",\"14:30\"), (\"14:00\",\"16:30\"),\n",
    "    (\"15:00\",\"16:30\"), (\"15:00\",\"16:30\"), (\"9:00\",\"10:30\")\n",
    "]\n",
    "print(assign_classroom(courses))"
   ],
   "outputs": [],
   "execution_count": null
  },
  {
   "cell_type": "markdown",
   "metadata": {},
   "source": [
    "## 问题 4 \n",
    "\n",
    "> 爬楼梯问题：假设爬楼梯时你每次只能爬一阶或者爬两阶，问爬上n阶的楼梯，你一共有多少种方法\n",
    "\n",
    "请设计算法完成该问题，分析算法设计思路，计算时间复杂度，并基于python编程实现"
   ]
  },
  {
   "cell_type": "markdown",
   "metadata": {},
   "source": [
    "idea：\n",
    "\n",
    "    爬n阶楼梯要不就是由n-1阶爬上来，要不就是由n-2阶爬上来。以这个思路来将问题分成两个相同的子问题，则符合递归的思想，则本题直接使用递归完成即可。"
   ]
  },
  {
   "cell_type": "code",
   "metadata": {},
   "source": [
    "# add your code here\n",
    "# your algorithm time complexity is:O(2^n)\n",
    "def climb_ladder(n):\n",
    "    if n <= 1:\n",
    "        return 1\n",
    "    return climb_ladder(n-1)+climb_ladder(n-2)\n",
    "print(climb_ladder(5))"
   ],
   "outputs": [],
   "execution_count": null
  },
  {
   "cell_type": "markdown",
   "metadata": {},
   "source": [
    "## 问题 5 \n",
    "\n",
    "> 0-1背包问题：现在有4块大理石，每个大理石对应的重量和价值使用一个元组表示, 即（重量，价值），4块大理石的重量和价值为：[(5,10), (4,40), (6,30), (3, 50)], 假设你有一辆最大承重为9的小推车，请问使用这个小推车装大理石的最大价值为多少\n",
    "\n",
    "请设计一个算法解决该问题，分析算法设计思路，计算时间复杂度，并基于python编程实现"
   ]
  },
  {
   "cell_type": "markdown",
   "metadata": {},
   "source": [
    "idea：\n",
    "\n",
    "    使用动态规划进行实现背包问题最大价值，状态矩阵的意义就是dp[i][j]表示从前i个物品选择若干个，总重量不超过w的最大价值。\n",
    "    那么状态方程就是\n",
    "    dp[i][j] = dp[i-1][j] 重量不足\n",
    "    dp[i][j]=max(dp[i-1][j],dp[i-1][j-weight[i-1]]+value[i-1]) 重量足判定价值\n"
   ]
  },
  {
   "cell_type": "code",
   "metadata": {},
   "source": [
    "# add your code here\n",
    "# your algorithm time complexity is:\n",
    "def Backpack_problem(tuple,weight):\n",
    "    dp = [[0] * (weight + 1) for _ in range(len(tuple) + 1)]\n",
    "    for i in range(len(tuple)):\n",
    "        for j in range(weight + 1):\n",
    "            if j>tuple[i][0]:\n",
    "                dp[i+1][j]=max(dp[i][j],dp[i][j-tuple[i][0]]+tuple[i][1])\n",
    "            else:\n",
    "                dp[i+1][j]=dp[i][j]\n",
    "    return dp[len(tuple)][weight]\n",
    "tuple = [(5, 10), (4, 40), (6, 30), (3, 50)]\n",
    "print(len(tuple))\n",
    "print(tuple)\n",
    "weight = 9\n",
    "print(Backpack_problem(tuple, weight))"
   ],
   "outputs": [],
   "execution_count": null
  },
  {
   "cell_type": "markdown",
   "metadata": {},
   "source": [
    "## 问题 6 \n",
    "给定 `n` 个非负整数表示每个宽度为 `1` 的柱子的高度图，计算按此排列的柱子，下雨之后能接多少雨水。\n",
    "\n",
    "\n",
    "\n",
    "<div style=\"text-align:center;width:800px;\"> <img alt=\"\" src=\"./fig/hw3q6.png\"> </div>\n",
    "\n",
    "请分析算法设计思路，计算时间复杂度，并基于python编程实现"
   ]
  },
  {
   "cell_type": "markdown",
   "metadata": {},
   "source": [
    "idea：\n",
    "\n",
    "    这个题目的解题思路有点像木桶效应，每个点所存的水取决于两边最大的柱子中相对较小的那一根。也就说为了求每个点的存水量，首先要获取这个点左右柱子的最大值，然后在这两个最大值中取较小的即可。"
   ]
  },
  {
   "cell_type": "code",
   "metadata": {},
   "source": [
    "# add your code here\n",
    "# your algorithm time complexity is:O(n)\n",
    "def cal_rain(height):\n",
    "    if not height:\n",
    "        return 0\n",
    "\n",
    "    n = len(height)\n",
    "    left_max = [0] * n\n",
    "    right_max = [0] * n\n",
    "    left_max[0] = height[0]\n",
    "    for i in range(1, n):\n",
    "        left_max[i] = max(left_max[i - 1], height[i])\n",
    "    right_max[-1] = height[-1]\n",
    "    for i in range(n - 2, -1, -1):\n",
    "        right_max[i] = max(right_max[i + 1], height[i])\n",
    "    total_water = 0\n",
    "    for i in range(n):\n",
    "        water = min(left_max[i], right_max[i]) - height[i]\n",
    "        total_water += max(water, 0)\n",
    "    return total_water\n",
    "\n",
    "print(cal_rain([0,1,0,2,1,0,1,3,2,1,2,1]))\n",
    "print(cal_rain([4,2,0,3,2,5]))\n"
   ],
   "outputs": [],
   "execution_count": null
  },
  {
   "metadata": {},
   "cell_type": "markdown",
   "source": ""
  },
  {
   "cell_type": "markdown",
   "metadata": {},
   "source": [
    "## 问题 7 \n",
    "\n",
    "**股票投资组合优化**： 假设你是一位投资者，想要在不同的股票中分配你的资金，以最大化你的投资回报。每只股票都有不同的预期收益率和风险。你的目标是选择一些股票，使得总投资金额不超过你的预算，并且预期收益最大化。\n",
    "\n",
    "在这个情况下，你可以将每只股票视为一个“物品”，其重量为投资金额，价值为预期收益率。然后，你可以使用分级背包问题的方法来选择部分股票，以便在预算内获得最大的预期收益。\n",
    "\n",
    "以下是一个简化的例子：\n",
    "\n",
    "假设你有以下三只股票可供选择：\n",
    "\n",
    "1. 股票 A：投资金额 5000 美元，预期收益率 10%\n",
    "2. 股票 B：投资金额 3000 美元，预期收益率 8%\n",
    "3. 股票 C：投资金额 2000 美元，预期收益率 12%\n",
    "\n",
    "请设计算法找到最优投资方案，分析算法设计思路，计算时间复杂度，并基于python编程实现"
   ]
  },
  {
   "cell_type": "markdown",
   "metadata": {},
   "source": [
    "idea：\n",
    "\n",
    "    题目允许使用分级背包问题的方法来选择部分股票，那么就可以直接运用贪婪算法，对每只股票的每美元的收益进行排序，然后优先购买收益最高的股票"
   ]
  },
  {
   "cell_type": "code",
   "metadata": {},
   "source": [
    "def best_investment(costs, profits, budget):\n",
    "    n = len(costs)\n",
    "    unit_values = [profits[i] / costs[i] for i in range(n)]\n",
    "    indices = sorted(range(n), key=lambda i: unit_values[i], reverse=True)\n",
    "    total_profit = 0\n",
    "    investments = []\n",
    "    for i in indices:\n",
    "        if budget >= costs[i]:\n",
    "            total_profit += costs[i] * profits[i] / 100\n",
    "            budget -= costs[i]\n",
    "            investments.append((costs[i], profits[i]))\n",
    "        else:\n",
    "            total_profit += budget * profits[i] / 100\n",
    "            investments.append((budget, profits[i]))\n",
    "            break\n",
    "    return total_profit, investments\n",
    "costs = [5000, 3000, 2000]\n",
    "profits = [10, 8, 12]\n",
    "budget = 7000\n",
    "total, invest_plan = best_investment(costs, profits, budget)\n",
    "print(total)\n",
    "for money, rate in invest_plan:\n",
    "    print(money,rate)"
   ],
   "outputs": [],
   "execution_count": null
  },
  {
   "cell_type": "markdown",
   "metadata": {},
   "source": [
    "## 问题 8\n",
    "\n",
    "给你二叉搜索树的根节点 root ，该树中的恰好两个节点的值被错误地交换。请在不改变其结构的情况下，恢复这棵树 。设计算法解决该问题，分析算法设计思路，计算时间复杂度，并基于python编程实现\n",
    "\n",
    "e.g.:\n",
    "---\n",
    "1.\n",
    "\n",
    "<div style=\"text-align:center;width:200px;\"> <img alt=\"\" src=\"./fig/hw3q9-1.jpg\"> </div>\n",
    "输入：root = [1,3,null,null,2]， 输出为：[3,1,null,null,2]， \n",
    "\n",
    "解释：3 不能是 1 的左孩子，因为 3 > 1 。交换 1 和 3 使二叉搜索树有效。\n",
    "\n",
    "2.\n",
    "\n",
    " <div style=\"text-align:center;width:200px;\"> <img alt=\"\" src=\"./fig/hw3q9-1.jpg\"> </div>\n",
    "输入： root=[3,1,4,null,null,2]， 输出为：[2,1,4,null,null,3]\n",
    "\n",
    "解释：2 不能在 3 的右子树中，因为 2 < 3 。交换 2 和 3 使二叉搜索树有效。"
   ]
  },
  {
   "cell_type": "markdown",
   "metadata": {},
   "source": [
    "idea：\n",
    "\n",
    "    直接利用第一题的构造树的代码进行添加修复搜索树的方法，对于搜索树来说，其左子树小于根节点，右节点大于根节点，这就说明了其对应的中序遍历组成的数组是升序的，那么我们只需要判断在中序遍历中是否出现非升序的结构即可，然后记录下错误的位置，最后进行交换。\n"
   ]
  },
  {
   "cell_type": "code",
   "metadata": {
    "ExecuteTime": {
     "end_time": "2025-05-12T10:53:39.370881Z",
     "start_time": "2025-05-12T10:53:39.356241Z"
    }
   },
   "source": [
    "import graphviz\n",
    "\n",
    "class TreeNode:\n",
    "    def __init__(self, val):\n",
    "        self.data = val\n",
    "        self.left = None\n",
    "        self.right = None\n",
    "def build_tree_from_list(lst):\n",
    "    if not lst:\n",
    "        return None\n",
    "    nodes = [TreeNode(val) if val is not None else None for val in lst]\n",
    "    i = 0\n",
    "    j = 1\n",
    "    while j < len(lst):\n",
    "        if nodes[i] is not None:\n",
    "            if j < len(lst):\n",
    "                nodes[i].left = nodes[j]\n",
    "                j += 1\n",
    "            if j < len(lst):\n",
    "                nodes[i].right = nodes[j]\n",
    "                j += 1\n",
    "        i += 1\n",
    "    return nodes[0]\n",
    "def middle_traversal(root):\n",
    "    if root:\n",
    "        middle_traversal(root.left)\n",
    "        print(root.data, end=' ')\n",
    "        middle_traversal(root.right)\n",
    "def visualize_tree(root, filename):\n",
    "    dot = graphviz.Digraph()\n",
    "    stack = [(root, str(id(root)))]\n",
    "    while stack:\n",
    "        node, node_id = stack.pop()\n",
    "        if not node:\n",
    "            continue\n",
    "        dot.node(node_id, str(node.data))\n",
    "        if node.left:\n",
    "            left_id = str(id(node.left))\n",
    "            dot.edge(node_id, left_id)\n",
    "            stack.append((node.left, left_id))\n",
    "        if node.right:\n",
    "            right_id = str(id(node.right))\n",
    "            dot.edge(node_id, right_id)\n",
    "            stack.append((node.right, right_id))\n",
    "    dot.render(filename=filename, format=\"png\", cleanup=False)\n",
    "    print(f\"树图已保存为 {filename}.png\")\n",
    "def recover_tree(root):\n",
    "    stack = []\n",
    "    x = y = prev = None\n",
    "    current = root\n",
    "    while stack or current:\n",
    "        while current:\n",
    "            stack.append(current)\n",
    "            current = current.left\n",
    "        current = stack.pop()\n",
    "        if prev and prev.data > current.data:\n",
    "            y = current\n",
    "            if not x:\n",
    "                x = prev\n",
    "            else:\n",
    "                break\n",
    "        prev = current\n",
    "        current = current.right\n",
    "    if x and y:\n",
    "        x.data, y.data = y.data, x.data\n",
    "if __name__ == \"__main__\":\n",
    "    root = build_tree_from_list([3, 1, 4, None, None, 2])\n",
    "    print(\"修复前中序遍历：\")\n",
    "    middle_traversal(root)\n",
    "    recover_tree(root)\n",
    "    print(\"\\n修复后中序遍历：\")\n",
    "    middle_traversal(root)\n",
    "\n"
   ],
   "outputs": [
    {
     "name": "stdout",
     "output_type": "stream",
     "text": [
      "修复前中序遍历：\n",
      "1 3 2 4 \n",
      "修复后中序遍历：\n",
      "1 2 3 4 "
     ]
    }
   ],
   "execution_count": 12
  },
  {
   "cell_type": "markdown",
   "metadata": {},
   "source": [
    "## 问题 9  \n",
    "\n",
    "给你一个二叉树的根节点 root ，树中每个节点都存放有一个 0 到 9 之间的数字。每条从根节点到叶节点的路径都代表一个数字：\n",
    "\n",
    "> 例如，从根节点到叶节点的路径 1 -> 2 -> 3 表示数字 123 。\n",
    "\n",
    "设计一个算法计算从根节点到叶节点生成的所有数字之和 ，分析算法设计思路，计算时间复杂度，并基于python编程实现\n",
    "\n",
    "叶节点:是指没有子节点的节点。\n",
    "\n",
    "e.g.:\n",
    "---\n",
    "1.\n",
    "\n",
    " <div style=\"text-align:center;width:200px;\"> <img alt=\"figure\" src=\"./fig/hw3q10-1.jpg\"> </div>\n",
    "\n",
    " 输入：root = [1,2,3], 输出：25\n",
    "\n",
    "解释：从根到叶子节点路径 1->2 代表数字 12，1->3 代表数字 13，因此和为 12 + 13 = 25 。\n",
    "\n",
    "2.\n",
    "\n",
    " <div style=\"text-align:center;width:200px;\"> <img alt=\"figure\" src=\"./fig/hw3q10-2.jpg\"> </div>\n",
    "\n",
    " 输入：root = [4,9,0,5,1], 输出：1026\n",
    "\n",
    "解释：从根到叶子节点路径 4->9->5 代表数字 495，4->9->1 代表数字 491，4->0 代表数字 40。因此和为 495 + 491 + 40 = 1026 。"
   ]
  },
  {
   "cell_type": "markdown",
   "metadata": {},
   "source": [
    "idea："
   ]
  },
  {
   "cell_type": "code",
   "metadata": {},
   "source": [
    "# add your code here\n",
    "# your algorithm time complexity is:"
   ],
   "outputs": [],
   "execution_count": null
  },
  {
   "cell_type": "markdown",
   "metadata": {},
   "source": [
    "## 问题 10  \n",
    "\n",
    "给你一个二叉树的根节点 root ， 检查它是否轴对称。\n",
    "\n",
    "1. 分析算法设计思路，计算时间复杂度，并基于python编程实现\n",
    "2. \\* 设计使用递归和迭代两种方法解决这个问题，计算时间复杂度，并基于python编程实现\n",
    "\n",
    "e.g.:\n",
    "---\n",
    "1.\n",
    "\n",
    " <div style=\"text-align:center;width:200px;\"> <img alt=\"figure\" src=\"./fig/hw3q11-1.png\"> </div>\n",
    "\n",
    " 输入：root = [1,2,2,3,4,4,3]， 输出：true\n",
    "\n",
    "解释：二叉树 [1,2,2,3,4,4,3] 对称。\n",
    "\n",
    "2.\n",
    "\n",
    " <div style=\"text-align:center;width:200px;\"> <img alt=\"figure\" src=\"./fig/hw3q11-2.png\"> </div>\n",
    "\n",
    " 输入：root = [1,2,2,null,3,null,3]， 输出：false"
   ]
  },
  {
   "cell_type": "markdown",
   "metadata": {},
   "source": [
    "idea"
   ]
  },
  {
   "cell_type": "code",
   "metadata": {},
   "source": [
    "# add your code here\n",
    "# your algorithm time complexity is:"
   ],
   "outputs": [],
   "execution_count": null
  },
  {
   "cell_type": "markdown",
   "metadata": {},
   "source": [
    "## 问题 11  \n",
    "\n",
    "给你一个由 '1'（陆地）和 '0'（水）组成的的二维网格，请你计算网格中岛屿的数量。岛屿总是被水包围，并且每座岛屿只能由水平方向和/或竖直方向上相邻的陆地连接形成。\n",
    "\n",
    "此外，你可以假设该网格的四条边均被水包围。\n",
    "\n",
    "分析算法设计思路，计算时间复杂度，并基于python编程实现\n",
    "\n",
    "e.g.:\n",
    "---\n",
    "1.\n",
    "输入：grid = [\n",
    "\n",
    "    [\"1\",\"1\",\"1\",\"1\",\"0\"],\n",
    "\n",
    "    [\"1\",\"1\",\"0\",\"1\",\"0\"], \n",
    "\n",
    "    [\"1\",\"1\",\"0\",\"0\",\"0\"], \n",
    "\n",
    "    [\"0\",\"0\",\"0\",\"0\",\"0\"]  \n",
    "\n",
    "]\n",
    "\n",
    "输出：1\n",
    "\n",
    "2.\n",
    "输入：grid = [\n",
    "\n",
    "    [\"1\",\"1\",\"0\",\"0\",\"0\"],\n",
    "\n",
    "    [\"1\",\"1\",\"0\",\"0\",\"0\"],\n",
    "\n",
    "    [\"0\",\"0\",\"1\",\"0\",\"0\"],\n",
    "\n",
    "    [\"0\",\"0\",\"0\",\"1\",\"1\"]\n",
    "\n",
    "]\n",
    "\n",
    "输出：3"
   ]
  },
  {
   "cell_type": "markdown",
   "metadata": {},
   "source": [
    "idea:"
   ]
  },
  {
   "cell_type": "code",
   "metadata": {},
   "source": [
    "# add your code here\n",
    "# your algorithm time complexity is:"
   ],
   "outputs": [],
   "execution_count": null
  }
 ],
 "metadata": {
  "language_info": {
   "name": "python"
  },
  "kernelspec": {
   "name": "python3",
   "language": "python",
   "display_name": "Python 3 (ipykernel)"
  }
 },
 "nbformat": 4,
 "nbformat_minor": 2
}
